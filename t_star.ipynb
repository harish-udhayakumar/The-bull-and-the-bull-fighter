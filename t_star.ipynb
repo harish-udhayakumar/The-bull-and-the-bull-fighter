{
 "cells": [
  {
   "cell_type": "code",
   "execution_count": 1,
   "id": "880370b8",
   "metadata": {},
   "outputs": [],
   "source": [
    "import numpy as np\n",
    "import matplotlib.pyplot as plt\n",
    "from matplotlib import cm\n",
    "import random"
   ]
  },
  {
   "cell_type": "code",
   "execution_count": 2,
   "id": "9c5f99be",
   "metadata": {},
   "outputs": [],
   "source": [
    "maze_size = 13\n",
    "wall = [(5,5), (5,7), (6,5), (6,7), (7,5), (7,6), (7,7)]"
   ]
  },
  {
   "cell_type": "code",
   "execution_count": 3,
   "id": "f31f0519",
   "metadata": {},
   "outputs": [],
   "source": [
    "def populate_maze(posb, posc, maze_size):\n",
    "    grid_world = np.full((maze_size, maze_size),0)\n",
    "    grid_world = np.asmatrix(grid_world)\n",
    "    grid_world.itemset(posb, 2)\n",
    "    grid_world.itemset(posc, 4)\n",
    "    walls = [(5,5), (5,7), (6,5), (6,7), (7,5), (7,6), (7,7)]\n",
    "    for i in walls:\n",
    "        grid_world.itemset(i, 1)\n",
    "    return grid_world"
   ]
  },
  {
   "cell_type": "code",
   "execution_count": 4,
   "id": "bad19c46",
   "metadata": {},
   "outputs": [
    {
     "data": {
      "text/plain": [
       "<matplotlib.image.AxesImage at 0x1a39af2f970>"
      ]
     },
     "execution_count": 4,
     "metadata": {},
     "output_type": "execute_result"
    },
    {
     "data": {
      "image/png": "[encoded data removed]",
      "text/plain": [
       "<Figure size 432x288 with 1 Axes>"
      ]
     },
     "metadata": {
      "needs_background": "light"
     },
     "output_type": "display_data"
    }
   ],
   "source": [
    "grid = populate_maze((0,0), (maze_size-1, maze_size-1), maze_size)\n",
    "colormap = cm.get_cmap(\"Greys\")\n",
    "plt.imshow(grid, cmap=colormap)"
   ]
  },
  {
   "cell_type": "code",
   "execution_count": 5,
   "id": "87e09f46",
   "metadata": {},
   "outputs": [],
   "source": [
    "def neighbors(entity, position, maze_size):\n",
    "    x = position[0]\n",
    "    y = position[1]\n",
    "\n",
    "    if entity == 'bull':\n",
    "        allChildren = [(x+1,y),#down\n",
    "               (x-1,y),#up\n",
    "               (x,y+1),#right\n",
    "               (x,y-1)]#left\n",
    "        if x+1 > maze_size-1:\n",
    "            allChildren.remove((x+1,y))\n",
    "        if x-1 < 0:\n",
    "            allChildren.remove((x-1,y))\n",
    "        if y+1 > maze_size-1:\n",
    "            allChildren.remove((x,y+1))\n",
    "        if y-1 < 0:\n",
    "            allChildren.remove((x,y-1)) \n",
    "\n",
    "    elif entity == 'robot':\n",
    "        allChildren = [(x+1,y),#down\n",
    "               (x-1,y),#up\n",
    "               (x,y+1),#right\n",
    "               (x,y-1),#left\n",
    "               (x+1,y+1),#bottom right\n",
    "               (x+1,y-1),#bottom left\n",
    "               (x-1,y+1),#top right\n",
    "               (x-1,y-1)]# top left\n",
    "\n",
    "        if x+1 > maze_size-1:\n",
    "            allChildren.remove((x+1,y))\n",
    "            allChildren.remove((x+1,y+1))\n",
    "            allChildren.remove((x+1,y-1))\n",
    "        if x-1 < 0:\n",
    "            allChildren.remove((x-1,y))\n",
    "            allChildren.remove((x-1,y+1))\n",
    "            allChildren.remove((x-1,y-1))\n",
    "        if y+1 > maze_size-1:\n",
    "            allChildren.remove((x,y+1))\n",
    "            if (x-1,y+1) in allChildren:\n",
    "                allChildren.remove((x-1,y+1))\n",
    "            if (x+1,y+1) in allChildren:\n",
    "                allChildren.remove((x+1,y+1))\n",
    "        if y-1 < 0:\n",
    "            allChildren.remove((x,y-1))\n",
    "            if (x-1,y-1) in allChildren:\n",
    "                allChildren.remove((x-1,y-1))\n",
    "            if (x+1,y-1) in allChildren:\n",
    "                allChildren.remove((x+1,y-1))\n",
    "    return allChildren"
   ]
  },
  {
   "cell_type": "code",
   "execution_count": 6,
   "id": "10c6ccf6",
   "metadata": {},
   "outputs": [],
   "source": [
    "def manhattan_distance_calc(state):\n",
    "    \"\"\"\n",
    "    This function returns manhattan distance for every cell\n",
    "    i: row value\n",
    "    j: column value\n",
    "    n: size of the maze\n",
    "    \"\"\"\n",
    "    return abs(state[0] -  state[2]) + abs(state[1] - state[3])"
   ]
  },
  {
   "cell_type": "code",
   "execution_count": 7,
   "id": "d38f986c",
   "metadata": {},
   "outputs": [],
   "source": [
    "def update_Q(current_state, Q, bull_neighbors, robot_neighbors):\n",
    "    probability_bull = 1/len(bull_neighbors)\n",
    "    probability_robot = 1/len(robot_neighbors)\n",
    "    beta = 0.9\n",
    "    reward = 1\n",
    "    max_q_value = -999\n",
    "\n",
    "    for state in Q[current_state].keys():\n",
    "        q_value = reward + beta * probability_robot * probability_bull * Q[current_state][state]\n",
    "        Q[current_state][state] = q_value\n",
    "    return Q"
   ]
  },
  {
   "cell_type": "code",
   "execution_count": 9,
   "id": "f87eb789",
   "metadata": {},
   "outputs": [],
   "source": [
    "def states_generator(maze_size):\n",
    "    A = {}\n",
    "\n",
    "    for i in range(maze_size):\n",
    "        for j in range(maze_size):\n",
    "            for k in range(maze_size):\n",
    "                for l in range(maze_size):\n",
    "                        A[(i,j,k,l)] = {}\n",
    "                        A[(i,j,k,l)][(i,j,k,l)] = -1\n",
    "\n",
    "    for i in A.keys():\n",
    "        robot_neighbors = neighbors('robot', i[2:4], maze_size)\n",
    "        bull_neighbors = neighbors('bull', i[:2], maze_size)\n",
    "        for m in robot_neighbors:\n",
    "            for n in bull_neighbors:\n",
    "                A[i][n+m] = -1\n",
    "\n",
    "    for i in range(maze_size-1):\n",
    "        for j in range(maze_size-1):\n",
    "            A[(5,6,i,j)] = {}\n",
    "            A[(5,6,i,j)][(6,6,i,j)] = 1000\n",
    "\n",
    "    for cell in [(5,5), (5,7), (6,5), (6,7), (7,5), (7,6), (7,7)]:\n",
    "        A[cell+(k,l)] = -100\n",
    "        A[(i,j) + cell] = -100\n",
    "\n",
    "    return A"
   ]
  },
  {
   "cell_type": "markdown",
   "id": "1db286be",
   "metadata": {},
   "source": [
    "# Compute Q values"
   ]
  },
  {
   "cell_type": "code",
   "execution_count": 10,
   "id": "5eb01b8a",
   "metadata": {},
   "outputs": [],
   "source": [
    "def compute_qvalues(bull, robot):\n",
    "    Q = states_generator(maze_size)\n",
    "    x = (6,6)\n",
    "    walls = [(5,5), (5,7), (6,5), (6,7), (7,5), (7,6), (7,7)]\n",
    "    visited_list = []\n",
    "    \n",
    "    while bull != x:\n",
    "        robot_neighbors = neighbors('robot', robot, maze_size)\n",
    "        bull_neighbors = neighbors('bull', bull, maze_size)\n",
    "        current_state = bull + robot\n",
    "        minimum_manhattan_distance = 999\n",
    "        visited_list.append(current_state)\n",
    "        if current_state not in Q.keys():\n",
    "            Q[current_state] = {}\n",
    "\n",
    "        if manhattan_distance_calc(current_state) <= 3:\n",
    "            min_distance_between_x_and_robot = 999\n",
    "            min_distance_between_bull_and_robot = 999\n",
    "            distance_between_x_and_robot = 0\n",
    "\n",
    "            for robot_neighbor in robot_neighbors:\n",
    "                distance_between_x_and_robot = manhattan_distance_calc(robot_neighbor + x)\n",
    "                if min_distance_between_x_and_robot > distance_between_x_and_robot:\n",
    "                    min_distance_between_x_and_robot = distance_between_x_and_robot\n",
    "                    robot = robot_neighbor\n",
    "                    if robot[0] < x[0] and robot[1] > x[1]:\n",
    "                        # top right to x\n",
    "                        distance_between_x_and_robot = manhattan_distance_calc((6,8) + robot)\n",
    "                    elif robot[0] < x[0] and robot[1] < x[1]:\n",
    "                        # top left to x\n",
    "                        distance_between_x_and_robot = manhattan_distance_calc((6,4) + robot)\n",
    "                    elif robot[0] > x[0] and robot[1] > x[1]:\n",
    "                        # bottom right to x\n",
    "                        distance_between_x_and_robot = manhattan_distance_calc((4,8) + robot)\n",
    "                    elif robot[0] > x[0] and robot[1] > x[1]:\n",
    "                        # bottom left to x\n",
    "                        distance_between_x_and_robot = manhattan_distance_calc((4,4) + robot)\n",
    "\n",
    "                    if distance_between_x_and_robot < min_distance_between_x_and_robot:\n",
    "                        robot = robot_neighbor\n",
    "\n",
    "                while robot == x:\n",
    "                    random_index = random.randint(0, len(robot_neighbors) - 1)\n",
    "                    robot = robot_neighbors[random_index]\n",
    "                    \n",
    "            for bull_neighbor in bull_neighbors:\n",
    "                distance_between_bull_and_robot = manhattan_distance_calc(bull_neighbor + robot)\n",
    "                if distance_between_bull_and_robot < min_distance_between_bull_and_robot:\n",
    "                    min_distance_between_bull_and_robot = distance_between_bull_and_robot\n",
    "                    bull = bull_neighbor\n",
    "        else:\n",
    "            for bull_neighbor in bull_neighbors:\n",
    "                for robot_neighbor in robot_neighbors:\n",
    "                    neighboring_state = bull_neighbor + robot_neighbor\n",
    "\n",
    "                    if neighboring_state not in Q[current_state].keys():\n",
    "                        Q[current_state][neighboring_state] = -1\n",
    "\n",
    "                    distance = manhattan_distance_calc(neighboring_state)\n",
    "                    if minimum_manhattan_distance > distance:\n",
    "                        minimum_manhattan_distance = distance\n",
    "                        next_state = neighboring_state\n",
    "                        Q[current_state][next_state] += 5\n",
    "            \n",
    "            random_index = random.randint(0, len(bull_neighbors) - 1)\n",
    "            bull = bull_neighbors[random_index]\n",
    "            robot = (next_state[2:4])\n",
    "            Q[current_state][bull + robot] += 10\n",
    "            \n",
    "        while robot == bull or (robot in walls):\n",
    "            random_index = random.randint(0, len(robot_neighbors) - 1)\n",
    "            robot = robot_neighbors[random_index]\n",
    "        while bull in walls:\n",
    "            random_index = random.randint(0, len(bull_neighbors) - 1)\n",
    "            bull = bull_neighbors[random_index]\n",
    "        Q = update_Q(current_state, Q, bull_neighbors, robot_neighbors)\n",
    "    return Q, visited_list"
   ]
  },
  {
   "cell_type": "code",
   "execution_count": 11,
   "id": "0f57258b",
   "metadata": {},
   "outputs": [],
   "source": [
    "bull = (0,0)\n",
    "robot = (maze_size-1, maze_size-1)\n",
    "\n",
    "Q, visited_list = compute_qvalues(bull, robot)"
   ]
  },
  {
   "cell_type": "markdown",
   "id": "81bbcf68",
   "metadata": {},
   "source": [
    "# T*"
   ]
  },
  {
   "cell_type": "code",
   "execution_count": 12,
   "id": "195c38d8",
   "metadata": {},
   "outputs": [],
   "source": [
    "bull = (0,0)\n",
    "robot = (maze_size-1,maze_size-1)\n",
    "x = (6,6)\n",
    "\n",
    "\n",
    "def t_star(bull, robot, visited_list, x):\n",
    "    visited_list = []\n",
    "    iteration = 0\n",
    "    while bull != x:\n",
    "\n",
    "        iteration += 1\n",
    "        current_state = bull + robot\n",
    "\n",
    "        if current_state not in visited_list:\n",
    "            visited_list.append(current_state)\n",
    "\n",
    "        for neighbor_state in Q[current_state]:\n",
    "            # if all the states have same Q value\n",
    "            if len(list(set(list(Q[current_state].values())))) == 1:\n",
    "                entry_list = list(Q[current_state].items())\n",
    "                next_state = random.choice(entry_list)[0]\n",
    "            else:\n",
    "                # the next state is chosen with max_q value\n",
    "                next_state = max(Q[current_state], key=Q[current_state].get)\n",
    "\n",
    "        bull = next_state[:2]\n",
    "        robot = next_state[2:4]\n",
    "\n",
    "    print('The minimal expected movements taken is:', iteration)"
   ]
  },
  {
   "cell_type": "code",
   "execution_count": 13,
   "id": "cff60556",
   "metadata": {},
   "outputs": [
    {
     "name": "stdout",
     "output_type": "stream",
     "text": [
      "The minimal expected movements taken is: 43\n"
     ]
    }
   ],
   "source": [
    "t_star(bull, robot, visited_list, x)"
   ]
  },
  {
   "cell_type": "code",
   "execution_count": null,
   "id": "bf556bb2",
   "metadata": {},
   "outputs": [],
   "source": []
  }
 ],
 "metadata": {
  "kernelspec": {
   "display_name": "Python 3",
   "language": "python",
   "name": "python3"
  },
  "language_info": {
   "codemirror_mode": {
    "name": "ipython",
    "version": 3
   },
   "file_extension": ".py",
   "mimetype": "text/x-python",
   "name": "python",
   "nbconvert_exporter": "python",
   "pygments_lexer": "ipython3",
   "version": "3.8.8"
  }
 },
 "nbformat": 4,
 "nbformat_minor": 5
}
